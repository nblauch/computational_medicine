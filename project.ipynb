{
 "cells": [
  {
   "cell_type": "markdown",
   "metadata": {},
   "source": [
    "# Imports"
   ]
  },
  {
   "cell_type": "code",
   "execution_count": null,
   "metadata": {},
   "outputs": [],
   "source": [
    "%load_ext autoreload\n",
    "%autoreload 2\n",
    "\n",
    "import numpy as np\n",
    "import nibabel as nib\n",
    "import matplotlib.pyplot as plt\n",
    "import scipy\n",
    "import pandas as pd\n",
    "import glob\n",
    "import os\n",
    "from tqdm import tqdm\n",
    "from sklearn.model_selection import KFold\n",
    "from sklearn.linear_model import RidgeCV\n",
    "from nilearn.plotting import view_img_on_surf\n",
    "import nilearn\n",
    "from tqdm import tqdm\n",
    "import cepy\n",
    "\n",
    "from helpers import BIDS_DIR, SUBJECTS\n",
    "import helpers\n"
   ]
  },
  {
   "cell_type": "markdown",
   "metadata": {},
   "source": [
    "# testing some visualization\n",
    "this is unnecessary and may take some effort to get working for others, due to the requirement to use pycortex. feel free to skip it"
   ]
  },
  {
   "cell_type": "code",
   "execution_count": null,
   "metadata": {},
   "outputs": [],
   "source": [
    "# import cortex\n",
    "\n",
    "# surf = nib.load(f'{BIDS_DIR}/derivatives/freesurfer/fsaverage5/surf/mh.inflated.gii')\n",
    "# fsaverage5_annot = nilearn.surface.load_surf_data(f'{BIDS_DIR}/derivatives/freesurfer/fsaverage5/label/mh.HCPMMP1.annot') - 1\n",
    "# fsaverage_annot = nilearn.surface.load_surf_data(f'{BIDS_DIR}/derivatives/freesurfer/fsaverage/label/mh.HCPMMP1.annot') - 1\n",
    "# mean_data = helpers.get_mean_parcel_timeseries(dat, fsaverage5_annot)\n",
    "# mapped_values = helpers.map_mean_parcels_to_surf(mean_data.std(1), fsaverage_annot)\n",
    "# surf = cortex.Vertex(mapped_values, subject='fsaverage', xfmname='standard')\n",
    "# cortex.quickshow(surf, with_rois=False, with_curvature=True, colorbar_location=[0.45, 0, 0.15, 0.05])\n",
    "# plt.show()"
   ]
  },
  {
   "cell_type": "markdown",
   "metadata": {},
   "source": [
    "# load relevant dx and phenotypes"
   ]
  },
  {
   "cell_type": "code",
   "execution_count": null,
   "metadata": {},
   "outputs": [],
   "source": [
    "phenotype = pd.read_csv(f'{BIDS_DIR}/phenotype/bipolar_ii.tsv', sep='\\t')\n",
    "phenotypes = []\n",
    "for sub in phenotype['participant_id']:\n",
    "    if os.path.exists(f'{BIDS_DIR}/derivatives/fmriprep/{sub}/func/{sub}_task-rest_bold_space-fsaverage5.L.func.gii'):\n",
    "        phenotypes.append(phenotype['bipollarii_sumscore'][phenotype['participant_id'] == sub].iloc[0])\n",
    "phenotypes = np.array(phenotypes)"
   ]
  },
  {
   "cell_type": "code",
   "execution_count": null,
   "metadata": {},
   "outputs": [],
   "source": [
    "participants = pd.read_csv(f'{BIDS_DIR}/participants.tsv', sep='\\t')"
   ]
  },
  {
   "cell_type": "code",
   "execution_count": null,
   "metadata": {},
   "outputs": [],
   "source": [
    "groups = list(np.unique(participants['diagnosis']))\n",
    "dx = np.array([groups.index(p) for ii, p in enumerate(participants['diagnosis']) if participants['participant_id'].iloc[ii] in SUBJECTS])"
   ]
  },
  {
   "cell_type": "markdown",
   "metadata": {},
   "source": [
    "# analyses based on mean activity in each region"
   ]
  },
  {
   "cell_type": "code",
   "execution_count": null,
   "metadata": {},
   "outputs": [],
   "source": [
    "if not os.path.exists('data/mean_glasser.npy'):\n",
    "    X = []\n",
    "    subs=[]\n",
    "    for subject in tqdm(SUBJECTS):\n",
    "        try:\n",
    "            dat = []\n",
    "            for hemi in ['L', 'R']:\n",
    "                fn = f'{BIDS_DIR}/derivatives/fmriprep/{subject}/func/{subject}_task-rest_bold_space-fsaverage5.L.func.gii'\n",
    "                gii = nib.load(fn)\n",
    "                all_dat = np.stack([gii.darrays[ii].data for ii in range(len(gii.darrays))])\n",
    "                dat.append(all_dat)\n",
    "            dat = np.concatenate(dat, 1)\n",
    "            mean_data = helpers.get_mean_parcel_timeseries(dat, fsaverage5_annot).mean(1)\n",
    "            X.append(mean_data)\n",
    "            subs.append(subject)\n",
    "        except Exception as e:\n",
    "            print(e)\n",
    "            print('continuing...')\n",
    "    X = np.stack(X)\n",
    "    np.save('mean_glasser.npy', X)\n",
    "else:\n",
    "    X = np.load('data/mean_glasser.npy')\n",
    "\n",
    "# zscore over parcels since mean activity may be very different over subjects due to scanning differences\n",
    "X = scipy.stats.zscore(X, 1)"
   ]
  },
  {
   "cell_type": "code",
   "execution_count": null,
   "metadata": {
    "jupyter": {
     "outputs_hidden": true
    }
   },
   "outputs": [],
   "source": [
    "# helpers.do_full_analysis(\n",
    "#     X, phenotypes, 'meanglasser', 'bipolariisum',\n",
    "#     do_pca=True,\n",
    "#     do_pcr=True,\n",
    "#     show=True,\n",
    "# )"
   ]
  },
  {
   "cell_type": "code",
   "execution_count": null,
   "metadata": {},
   "outputs": [],
   "source": [
    "for ii, jj in combinations(np.arange(len(groups)), 2):\n",
    "    subs = np.argwhere([x in [ii,jj] for x in dx]).reshape(-1)\n",
    "    # subs = np.arange(len(dx))\n",
    "    helpers.do_full_categ_analysis(\n",
    "        X[subs], dx[subs], 'meanglasser', f'dx-{groups[ii]}-{groups[jj]}',\n",
    "                         do_pca=True,\n",
    "                         do_pcc=False,\n",
    "                         do_pcc_proper=False,\n",
    "                         save=True,\n",
    "                         show=True,\n",
    "    )"
   ]
  },
  {
   "cell_type": "code",
   "execution_count": null,
   "metadata": {},
   "outputs": [],
   "source": [
    "df = pd.DataFrame(dict(dx_1=[], dx_2=[], accuracy=[], n_pcs=[]))\n",
    "for ii, jj in combinations(np.arange(len(groups)), 2):\n",
    "    subs = np.argwhere([x in [ii,jj] for x in dx]).reshape(-1)\n",
    "    # subs = np.arange(len(dx))\n",
    "    accuracy, n_pcs = helpers.do_full_categ_analysis(\n",
    "        X[subs], dx[subs], 'meanglasser', f'dx-{groups[ii]}-{groups[jj]}',\n",
    "                         do_pca=False,\n",
    "                         do_pcc=True,\n",
    "                         do_pcc_proper=True,\n",
    "                         save=True,\n",
    "                         show=True,\n",
    "    )\n",
    "    df = df.append(pd.Series(dict(dx_1=groups[ii], dx_2=groups[jj],accuracy=accuracy,n_pcs=n_pcs)), ignore_index=True)\n",
    "    df.to_csv('meanglasser_pcc.csv')"
   ]
  },
  {
   "cell_type": "code",
   "execution_count": null,
   "metadata": {},
   "outputs": [],
   "source": [
    "df"
   ]
  },
  {
   "cell_type": "markdown",
   "metadata": {},
   "source": [
    "## visualize the first PC of activation, since it is predictive"
   ]
  },
  {
   "cell_type": "code",
   "execution_count": null,
   "metadata": {
    "jupyter": {
     "outputs_hidden": true
    }
   },
   "outputs": [],
   "source": [
    "# pc = 0\n",
    "# mapped_values = map_mean_parcels_to_surf(pca_sol.components_[pc,:], fsaverage_annot)\n",
    "# surf = cortex.Vertex(mapped_values, subject='fsaverage', xfmname='standard')\n",
    "# cortex.quickshow(surf, with_rois=False, with_curvature=True, colorbar_location=[0.45, 0, 0.15, 0.05])\n",
    "# plt.savefig(f'figures/meanact_PC-{pc+1}_weights.png')\n",
    "# plt.show()"
   ]
  },
  {
   "cell_type": "markdown",
   "metadata": {},
   "source": [
    "# analyses based on raw FC matrices"
   ]
  },
  {
   "cell_type": "code",
   "execution_count": null,
   "metadata": {
    "jupyter": {
     "outputs_hidden": true
    }
   },
   "outputs": [],
   "source": [
    "if not os.path.exists('data/connectomes.npy'):\n",
    "    connectomes = []\n",
    "    for sub in tqdm(SUBJECTS):\n",
    "        try:\n",
    "            connectomes.append(helpers.get_subject_connectome(sub, overwrite=False))\n",
    "        except Exception as e:\n",
    "            print(e)\n",
    "    connectomes = np.stack(connectomes)\n",
    "    connectomes[np.isnan(connectomes)] = 0\n",
    "    connectomes[np.isinf(connectomes)] = 10\n",
    "    connectomes[np.isinf(-connectomes)] = -10\n",
    "    np.save('data/connectomes.npy', connectomes)\n",
    "else:\n",
    "    connectomes = np.load('data/connectomes.npy')\n",
    "X = connectomes.reshape(connectomes.shape[0],-1)"
   ]
  },
  {
   "cell_type": "code",
   "execution_count": null,
   "metadata": {},
   "outputs": [],
   "source": [
    "df = pd.DataFrame(dict(dx_1=[], dx_2=[], accuracy=[], n_pcs=[]))\n",
    "for ii, jj in combinations(np.arange(len(groups)), 2):\n",
    "    subs = np.argwhere([x in [ii,jj] for x in dx]).reshape(-1)\n",
    "    # subs = np.arange(len(dx))\n",
    "    accuracy, n_pcs = helpers.do_full_categ_analysis(\n",
    "        X[subs], dx[subs], 'rsfc', f'dx-{groups[ii]}-{groups[jj]}',\n",
    "                         do_pca=True,\n",
    "                         do_pcc=True,\n",
    "                         do_pcc_proper=True,\n",
    "                         save=True,\n",
    "                         show=True,\n",
    "    )\n",
    "    df = df.append(pd.Series(dict(dx_1=groups[ii], dx_2=groups[jj],accuracy=accuracy,n_pcs=n_pcs)), ignore_index=True)\n",
    "df"
   ]
  },
  {
   "cell_type": "markdown",
   "metadata": {},
   "source": [
    "# results based on connectome embedding\n",
    "make sure to first run submit_ce_jobs.py"
   ]
  },
  {
   "cell_type": "code",
   "execution_count": null,
   "metadata": {},
   "outputs": [],
   "source": [
    "X = []\n",
    "for sub_i, sub in tqdm(enumerate(SUBJECTS)):\n",
    "    ce_sub_aligned = cepy.load_model(f'{BIDS_DIR}/derivatives/python/cepy/{sub}_ce_fc-rest_sparsity-0.3_aligned.json')\n",
    "    X.append(ce_sub_aligned.weights.get_w_mean(norm = True))\n",
    "X = np.stack(X)"
   ]
  },
  {
   "cell_type": "code",
   "execution_count": null,
   "metadata": {},
   "outputs": [],
   "source": [
    "X = X.reshape(X.shape[0],-1)\n",
    "df = pd.DataFrame(dict(dx_1=[], dx_2=[], accuracy=[], n_pcs=[]))\n",
    "for ii, jj in combinations(np.arange(len(groups)), 2):\n",
    "    subs = np.argwhere([x in [ii,jj] for x in dx]).reshape(-1)\n",
    "    # subs = np.arange(len(dx))\n",
    "    accuracy, n_pcs = helpers.do_full_categ_analysis(\n",
    "        X[subs], dx[subs], 'rsfc-ce', f'dx-{groups[ii]}-{groups[jj]}',\n",
    "                         do_pca=True,\n",
    "                         do_pcc=True,\n",
    "                         do_pcc_proper=True,\n",
    "                         save=True,\n",
    "                         show=True,\n",
    "    )\n",
    "    df = df.append(pd.Series(dict(dx_1=groups[ii], dx_2=groups[jj],accuracy=accuracy,n_pcs=n_pcs)), ignore_index=True)\n",
    "df\n",
    "    "
   ]
  },
  {
   "cell_type": "markdown",
   "metadata": {},
   "source": [
    "# combine all of the metrics"
   ]
  },
  {
   "cell_type": "code",
   "execution_count": null,
   "metadata": {},
   "outputs": [],
   "source": [
    "X = np.load('data/mean_glasser.npy')\n",
    "# subs = np.load('data/subs_with_restdat.npy')\n",
    "\n",
    "# zscore over parcels since mean activity may be very different over subjects due to scanning differences\n",
    "X = scipy.stats.zscore(X, 1)\n",
    "\n",
    "connectomes = np.load('data/connectomes.npy')\n",
    "X = np.concatenate((X, connectomes.reshape(connectomes.shape[0],-1)), 1)\n",
    "\n",
    "X_ce = []\n",
    "for sub_i, sub in tqdm(enumerate(SUBJECTS)):\n",
    "    ce_sub_aligned = cepy.load_model(f'{BIDS_DIR}/derivatives/python/cepy/{sub}_ce_fc-rest_sparsity-0.3_aligned.json')\n",
    "    X_ce.append(ce_sub_aligned.weights.get_w_mean(norm = True))\n",
    "X_ce = np.stack(X)\n",
    "X = np.concatenate((X, X_ce), 1)"
   ]
  },
  {
   "cell_type": "code",
   "execution_count": null,
   "metadata": {},
   "outputs": [],
   "source": [
    "df = pd.DataFrame(dict(dx_1=[], dx_2=[], accuracy=[], n_pcs=[]))\n",
    "for ii, jj in combinations(np.arange(len(groups)), 2):\n",
    "    subs = np.argwhere([x in [ii,jj] for x in dx]).reshape(-1)\n",
    "    # subs = np.arange(len(dx))\n",
    "    accuracy, n_pcs = helpers.do_full_categ_analysis(\n",
    "        X[subs], dx[subs], 'meanglasser+rsfc+rsfc-ce', f'dx-{groups[ii]}-{groups[jj]}',\n",
    "                         do_pca=True,\n",
    "                         do_pcc=True,\n",
    "                         do_pcc_proper=True,\n",
    "                         save=True,\n",
    "                         show=True,\n",
    "    )\n",
    "    df = df.append(pd.Series(dict(dx_1=groups[ii], dx_2=groups[jj],accuracy=accuracy,n_pcs=n_pcs)), ignore_index=True)\n",
    "df"
   ]
  }
 ],
 "metadata": {
  "kernelspec": {
   "display_name": "Python [conda env:pycortex]",
   "language": "python",
   "name": "conda-env-pycortex-py"
  },
  "language_info": {
   "codemirror_mode": {
    "name": "ipython",
    "version": 3
   },
   "file_extension": ".py",
   "mimetype": "text/x-python",
   "name": "python",
   "nbconvert_exporter": "python",
   "pygments_lexer": "ipython3",
   "version": "3.6.10"
  }
 },
 "nbformat": 4,
 "nbformat_minor": 4
}
